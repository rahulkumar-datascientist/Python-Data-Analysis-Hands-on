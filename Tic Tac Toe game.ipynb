{
 "cells": [
  {
   "cell_type": "markdown",
   "metadata": {},
   "source": [
    "**Step 1: Write a function that can print out a board. Set up your board as a list, where each index 1-9 corresponds with a number on a number pad, so you get a 3 by 3 board representation.**"
   ]
  },
  {
   "cell_type": "code",
   "execution_count": 4,
   "metadata": {},
   "outputs": [],
   "source": [
    "from IPython.display import clear_output\n",
    "\n",
    "test_board = ['1','2','3','4','5','6','7','8','9']\n",
    "\n",
    "def display_board(board):\n",
    "    clear_output()\n",
    "    print('{0:^5}|{1:^5}|{2:^5}'.format(board[6],board[7],board[8]))\n",
    "    print('{0:-^5}|{1:-^5}|{2:-^5}'.format(' ',' ',' '))\n",
    "    print('{0:^5}|{1:^5}|{2:^5}'.format(board[3],board[4],board[5]))\n",
    "    print('{0:-^5}|{0:-^5}|{0:-^5}'.format(''))\n",
    "    print('{0:^5}|{1:^5}|{2:^5}'.format(board[0],board[1],board[2]))\n",
    "   "
   ]
  },
  {
   "cell_type": "code",
   "execution_count": 5,
   "metadata": {},
   "outputs": [
    {
     "name": "stdout",
     "output_type": "stream",
     "text": [
      "  7  |  8  |  9  \n",
      "-- --|-- --|-- --\n",
      "  4  |  5  |  6  \n",
      "-----|-----|-----\n",
      "  1  |  2  |  3  \n"
     ]
    }
   ],
   "source": [
    "display_board(test_board)"
   ]
  },
  {
   "cell_type": "markdown",
   "metadata": {},
   "source": [
    "**Step 2: Write a function that can take in a player input and assign their marker as 'X' or 'O'. Think about using *while* loops to continually ask until you get a correct answer.**"
   ]
  },
  {
   "cell_type": "code",
   "execution_count": 6,
   "metadata": {},
   "outputs": [],
   "source": [
    "def player_input():\n",
    "    mark_X = 'X'\n",
    "    mark_O = 'O'\n",
    "    inp = ''\n",
    "    \n",
    "    while True:\n",
    "        inp = input('\\nPlayer 1, Enter your marker \"X / O\" : ').upper()\n",
    "        \n",
    "        if(inp == 'X'):\n",
    "            print('\\nPlayer1 assigned the marker as: ',inp)\n",
    "            print('\\nPlayer2, your marker is: ',mark_O)\n",
    "            break\n",
    "            \n",
    "        elif(inp == 'O'):\n",
    "            print('\\nPlayer1 assigned the marker as: ',inp)\n",
    "            print('\\nPlayer2, your marker is: ',mark_X)\n",
    "            break\n",
    "            \n",
    "        else:\n",
    "            print('\\nPlease input the correct value !!')\n",
    "            \n",
    "            \n",
    "        "
   ]
  },
  {
   "cell_type": "code",
   "execution_count": 7,
   "metadata": {},
   "outputs": [
    {
     "name": "stdout",
     "output_type": "stream",
     "text": [
      "\n",
      "Player 1, Enter your marker \"X / O\" : x\n",
      "\n",
      "Player1 assigned the marker as:  X\n",
      "\n",
      "Player2, your marker is:  O\n"
     ]
    }
   ],
   "source": [
    "player_input()"
   ]
  },
  {
   "cell_type": "code",
   "execution_count": 16,
   "metadata": {},
   "outputs": [],
   "source": [
    "def player_input1():\n",
    "    marker = ''\n",
    "    \n",
    "    while not (marker == 'X' or marker == 'O'):\n",
    "        marker = input('Player 1: Do you want to be X or O? ').upper()\n",
    "   \n",
    "\n",
    "    if marker == 'X':\n",
    "        return ('X', 'O')\n",
    "    else:\n",
    "        return ('O', 'X')"
   ]
  },
  {
   "cell_type": "code",
   "execution_count": 17,
   "metadata": {},
   "outputs": [
    {
     "name": "stdout",
     "output_type": "stream",
     "text": [
      "Player 1: Do you want to be X or O? h\n",
      "Player 1: Do you want to be X or O? x\n"
     ]
    },
    {
     "data": {
      "text/plain": [
       "('X', 'O')"
      ]
     },
     "execution_count": 17,
     "metadata": {},
     "output_type": "execute_result"
    }
   ],
   "source": [
    "player_input1()"
   ]
  },
  {
   "cell_type": "markdown",
   "metadata": {},
   "source": [
    "**Step 3: Write a function that takes in the board list object, a marker ('X' or 'O'), and a desired position (number 1-9) and assigns it to the board.**"
   ]
  },
  {
   "cell_type": "code",
   "execution_count": 8,
   "metadata": {},
   "outputs": [],
   "source": [
    "def place_marker(board,inp,pos):\n",
    "\n",
    "    board[pos-1] = inp\n",
    "    display_board(board)"
   ]
  },
  {
   "cell_type": "code",
   "execution_count": 9,
   "metadata": {},
   "outputs": [
    {
     "name": "stdout",
     "output_type": "stream",
     "text": [
      "  7  |  8  |  9  \n",
      "-- --|-- --|-- --\n",
      "  4  |  X  |  6  \n",
      "-----|-----|-----\n",
      "  1  |  2  |  3  \n"
     ]
    }
   ],
   "source": [
    "place_marker(test_board,'X',5)"
   ]
  },
  {
   "cell_type": "markdown",
   "metadata": {},
   "source": [
    "**Step 4: Write a function that takes in a board and a mark (X or O) and then checks to see if that mark has won.**"
   ]
  },
  {
   "cell_type": "code",
   "execution_count": 10,
   "metadata": {},
   "outputs": [],
   "source": [
    "def win_check(board,inp):\n",
    "\n",
    "    if(board[0] == board[1] == board[2] == inp):\n",
    "        display_board(board)\n",
    "        print('Win')\n",
    "\n",
    "    elif(board[0] == board[6] == board[3] == inp):\n",
    "        display_board(board)\n",
    "        print('Win')\n",
    "\n",
    "    elif(board[6] == board[7] == board[8] == inp):\n",
    "        display_board(board)\n",
    "        print('Win')\n",
    "\n",
    "    elif(board[2] == board[5] == board[8] == inp):\n",
    "        display_board(board)\n",
    "        print('Win')\n",
    "\n",
    "    elif(board[3] == board[4] == board[5] == inp):\n",
    "        display_board(board)\n",
    "        print('Win')\n",
    "\n",
    "    elif(board[7] == board[4] == board[1] == inp):\n",
    "        display_board(board)\n",
    "        print('Win')\n",
    "\n",
    "    elif(board[0] == board[4] == board[8] == inp):\n",
    "        display_board(board)\n",
    "        print('Win')\n",
    "\n",
    "    elif(board[6] == board[4] == board[2] == inp):\n",
    "        display_board(board)\n",
    "        print('Win')\n",
    "\n",
    "    else:\n",
    "        display_board(board)\n",
    "        print('continue')\n",
    "\n"
   ]
  },
  {
   "cell_type": "code",
   "execution_count": 15,
   "metadata": {},
   "outputs": [
    {
     "name": "stdout",
     "output_type": "stream",
     "text": [
      "  6  |  7  |  x  \n",
      "-- --|-- --|-- --\n",
      "  3  |  x  |  x  \n",
      "-----|-----|-----\n",
      "  x  |  1  |  2  \n",
      "Win\n"
     ]
    }
   ],
   "source": [
    "win_check(['x','1','2','3','x','x','6','7','x','9'],'x')"
   ]
  },
  {
   "cell_type": "markdown",
   "metadata": {},
   "source": [
    "**Step 5: Write a function that uses the random module to randomly decide which player goes first. You may want to lookup random.randint() Return a string of which player went first.**"
   ]
  },
  {
   "cell_type": "code",
   "execution_count": null,
   "metadata": {},
   "outputs": [],
   "source": []
  }
 ],
 "metadata": {
  "kernelspec": {
   "display_name": "Python 3",
   "language": "python",
   "name": "python3"
  },
  "language_info": {
   "codemirror_mode": {
    "name": "ipython",
    "version": 3
   },
   "file_extension": ".py",
   "mimetype": "text/x-python",
   "name": "python",
   "nbconvert_exporter": "python",
   "pygments_lexer": "ipython3",
   "version": "3.7.3"
  }
 },
 "nbformat": 4,
 "nbformat_minor": 2
}
