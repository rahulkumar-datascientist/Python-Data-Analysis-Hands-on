{
 "cells": [
  {
   "cell_type": "markdown",
   "metadata": {},
   "source": [
    "**Step 1: Write a function that can print out a board. Set up your board as a list, where each index 1-9 corresponds with a number on a number pad, so you get a 3 by 3 board representation.**"
   ]
  },
  {
   "cell_type": "code",
   "execution_count": 7,
   "metadata": {},
   "outputs": [],
   "source": [
    "from IPython.display import clear_output\n",
    "\n",
    "test_board = ['1','2','3','4','5','6','7','8','9']\n",
    "\n",
    "def display_board(board):\n",
    "    clear_output()\n",
    "    print('{0:^5}|{1:^5}|{2:^5}'.format(board[6],board[7],board[8]))\n",
    "    print('{0:-^5}|{1:-^5}|{2:-^5}'.format(' ',' ',' '))\n",
    "    print('{0:^5}|{1:^5}|{2:^5}'.format(board[3],board[4],board[5]))\n",
    "    print('{0:-^5}|{0:-^5}|{0:-^5}'.format(''))\n",
    "    print('{0:^5}|{1:^5}|{2:^5}'.format(board[0],board[1],board[2]))\n",
    "   "
   ]
  },
  {
   "cell_type": "code",
   "execution_count": 8,
   "metadata": {},
   "outputs": [
    {
     "name": "stdout",
     "output_type": "stream",
     "text": [
      "  7  |  8  |  9  \n",
      "-- --|-- --|-- --\n",
      "  4  |  5  |  6  \n",
      "-----|-----|-----\n",
      "  1  |  2  |  3  \n"
     ]
    }
   ],
   "source": [
    "display_board(test_board)"
   ]
  },
  {
   "cell_type": "markdown",
   "metadata": {},
   "source": [
    "**Step 2: Write a function that can take in a player input and assign their marker as 'X' or 'O'. Think about using *while* loops to continually ask until you get a correct answer.**"
   ]
  },
  {
   "cell_type": "code",
   "execution_count": 9,
   "metadata": {},
   "outputs": [],
   "source": [
    "#def player_input():\n",
    " #   mark_X = 'X'\n",
    "  #  mark_O = 'O'\n",
    "   # inp = ''\n",
    "    #\n",
    "#    while True:\n",
    "#        inp = input('\\nPlayer 1, Enter your marker \"X / O\" : ').upper()\n",
    "#        \n",
    "#        if(inp == 'X'):\n",
    "#            print('\\nPlayer1 assigned the marker as: ',inp)\n",
    "#           print('\\nPlayer2, your marker is: ',mark_O)\n",
    "#            break\n",
    "#            \n",
    "#        elif(inp == 'O'):\n",
    "#            print('\\nPlayer1 assigned the marker as: ',inp)\n",
    "#            print('\\nPlayer2, your marker is: ',mark_X)\n",
    "#            break\n",
    "#            \n",
    "#        else:\n",
    "#            print('\\nPlease input the correct value !!')\n",
    "#            \n",
    "#            \n",
    "#    "
   ]
  },
  {
   "cell_type": "code",
   "execution_count": 12,
   "metadata": {},
   "outputs": [],
   "source": [
    "#player_input()"
   ]
  },
  {
   "cell_type": "code",
   "execution_count": 13,
   "metadata": {},
   "outputs": [],
   "source": [
    "def player_input1():\n",
    "    marker = ''\n",
    "    \n",
    "    while not (marker == 'X' or marker == 'O'):\n",
    "        marker = input('Player 1: Do you want to be X or O? ').upper()\n",
    "   \n",
    "\n",
    "    if marker == 'X':\n",
    "        return ('X', 'O')\n",
    "    else:\n",
    "        return ('O', 'X')"
   ]
  },
  {
   "cell_type": "code",
   "execution_count": 14,
   "metadata": {},
   "outputs": [
    {
     "name": "stdout",
     "output_type": "stream",
     "text": [
      "Player 1: Do you want to be X or O? N\n",
      "Player 1: Do you want to be X or O? X\n"
     ]
    },
    {
     "data": {
      "text/plain": [
       "('X', 'O')"
      ]
     },
     "execution_count": 14,
     "metadata": {},
     "output_type": "execute_result"
    }
   ],
   "source": [
    "player_input1()"
   ]
  },
  {
   "cell_type": "markdown",
   "metadata": {},
   "source": [
    "**Step 3: Write a function that takes in the board list object, a marker ('X' or 'O'), and a desired position (number 1-9) and assigns it to the board.**"
   ]
  },
  {
   "cell_type": "code",
   "execution_count": 15,
   "metadata": {},
   "outputs": [],
   "source": [
    "def place_marker(board,inp,pos):\n",
    "\n",
    "    board[pos-1] = inp\n",
    "    display_board(board)"
   ]
  },
  {
   "cell_type": "code",
   "execution_count": 16,
   "metadata": {},
   "outputs": [
    {
     "name": "stdout",
     "output_type": "stream",
     "text": [
      "  7  |  8  |  9  \n",
      "-- --|-- --|-- --\n",
      "  4  |  X  |  6  \n",
      "-----|-----|-----\n",
      "  1  |  2  |  3  \n"
     ]
    }
   ],
   "source": [
    "place_marker(test_board,'X',5)"
   ]
  },
  {
   "cell_type": "markdown",
   "metadata": {},
   "source": [
    "**Step 4: Write a function that takes in a board and a mark (X or O) and then checks to see if that mark has won.**"
   ]
  },
  {
   "cell_type": "code",
   "execution_count": 17,
   "metadata": {},
   "outputs": [],
   "source": [
    "def win_check(board,inp):\n",
    "\n",
    "    if(board[0] == board[1] == board[2] == inp):\n",
    "        display_board(board)\n",
    "        print('Win')\n",
    "\n",
    "    elif(board[0] == board[6] == board[3] == inp):\n",
    "        display_board(board)\n",
    "        print('Win')\n",
    "\n",
    "    elif(board[6] == board[7] == board[8] == inp):\n",
    "        display_board(board)\n",
    "        print('Win')\n",
    "\n",
    "    elif(board[2] == board[5] == board[8] == inp):\n",
    "        display_board(board)\n",
    "        print('Win')\n",
    "\n",
    "    elif(board[3] == board[4] == board[5] == inp):\n",
    "        display_board(board)\n",
    "        print('Win')\n",
    "\n",
    "    elif(board[7] == board[4] == board[1] == inp):\n",
    "        display_board(board)\n",
    "        print('Win')\n",
    "\n",
    "    elif(board[0] == board[4] == board[8] == inp):\n",
    "        display_board(board)\n",
    "        print('Win')\n",
    "\n",
    "    elif(board[6] == board[4] == board[2] == inp):\n",
    "        display_board(board)\n",
    "        print('Win')\n",
    "\n",
    "    else:\n",
    "        display_board(board)\n",
    "        print('continue')\n",
    "\n"
   ]
  },
  {
   "cell_type": "code",
   "execution_count": 18,
   "metadata": {},
   "outputs": [
    {
     "name": "stdout",
     "output_type": "stream",
     "text": [
      "  6  |  7  |  x  \n",
      "-- --|-- --|-- --\n",
      "  3  |  x  |  x  \n",
      "-----|-----|-----\n",
      "  x  |  1  |  2  \n",
      "Win\n"
     ]
    }
   ],
   "source": [
    "win_check(['x','1','2','3','x','x','6','7','x','9'],'x')"
   ]
  },
  {
   "cell_type": "markdown",
   "metadata": {},
   "source": [
    "**Step 5: Write a function that uses the random module to randomly decide which player goes first. You may want to lookup random.randint() Return a string of which player went first.**"
   ]
  },
  {
   "cell_type": "code",
   "execution_count": 19,
   "metadata": {},
   "outputs": [],
   "source": [
    "import random\n",
    "\n",
    "def choose_first():\n",
    "    if(random.randint(0,1) == 0):\n",
    "        return 'Player 1'\n",
    "    else:\n",
    "        return 'Player 2'"
   ]
  },
  {
   "cell_type": "code",
   "execution_count": 20,
   "metadata": {},
   "outputs": [
    {
     "data": {
      "text/plain": [
       "'Player 1'"
      ]
     },
     "execution_count": 20,
     "metadata": {},
     "output_type": "execute_result"
    }
   ],
   "source": [
    "choose_first()"
   ]
  },
  {
   "cell_type": "markdown",
   "metadata": {},
   "source": [
    "**Step 6: Write a function that returns a boolean indicating whether a space on the board is freely available.**"
   ]
  },
  {
   "cell_type": "code",
   "execution_count": 3,
   "metadata": {},
   "outputs": [],
   "source": [
    "def space_check(board, position):\n",
    "    \n",
    "        if(board[position-1] == ' ' or board[position-1] == ''):\n",
    "            return True\n",
    "        else:\n",
    "            return False\n",
    "        \n",
    " "
   ]
  },
  {
   "cell_type": "code",
   "execution_count": 4,
   "metadata": {},
   "outputs": [
    {
     "data": {
      "text/plain": [
       "True"
      ]
     },
     "execution_count": 4,
     "metadata": {},
     "output_type": "execute_result"
    }
   ],
   "source": [
    "space_check(['','2','3 ','4','5','6','7','8','9'],1)"
   ]
  },
  {
   "cell_type": "markdown",
   "metadata": {},
   "source": [
    "**Step 7: Write a function that checks if the board is full and returns a boolean value. True if full, False otherwise.**"
   ]
  },
  {
   "cell_type": "code",
   "execution_count": 31,
   "metadata": {},
   "outputs": [],
   "source": [
    "def full_board_check(board):\n",
    "    item=0\n",
    "    flag=0\n",
    "    while (item<9):\n",
    "        if((board[item]=='') or (board[item]== ' ')):\n",
    "            flag=1\n",
    "            break\n",
    "        else:\n",
    "            item+=1\n",
    "                        \n",
    "    if(flag==1):\n",
    "        return False\n",
    "    else:\n",
    "        return True\n",
    "   "
   ]
  },
  {
   "cell_type": "code",
   "execution_count": 32,
   "metadata": {},
   "outputs": [
    {
     "data": {
      "text/plain": [
       "False"
      ]
     },
     "execution_count": 32,
     "metadata": {},
     "output_type": "execute_result"
    }
   ],
   "source": [
    "full_board_check(['1','2','3','r','5','6','7','8',' '])"
   ]
  },
  {
   "cell_type": "code",
   "execution_count": 33,
   "metadata": {},
   "outputs": [],
   "source": [
    "#def full_board_check(board):\n",
    "#    for i in range(1,10):\n",
    "#        if (space_check(board, i) == False):\n",
    "#            return False\n",
    "#    return True"
   ]
  },
  {
   "cell_type": "code",
   "execution_count": 34,
   "metadata": {},
   "outputs": [],
   "source": [
    "#full_board_check(['1','2','3','r','5','6','7','8',' '])"
   ]
  },
  {
   "cell_type": "markdown",
   "metadata": {},
   "source": [
    "**Step 8: Write a function that asks for a player's next position (as a number 1-9) and then uses the function from step 6 to check if its a free position. If it is, then return the position for later use.**"
   ]
  },
  {
   "cell_type": "code",
   "execution_count": 5,
   "metadata": {},
   "outputs": [],
   "source": [
    "def player_ch(board):\n",
    "    posit = 0\n",
    "    #flag = 0\n",
    "    \n",
    "    posit = int(input('Enter the position [1-9]: '))\n",
    "    \n",
    "    while True:#not (posit not in range(1,9)):\n",
    "        \n",
    "        if(posit not in range(1,10)):\n",
    "                print('Position out of range!!')\n",
    "                posit = int(input('Enter the position [1-9]: '))\n",
    "                continue\n",
    "        \n",
    "        while not(space_check(board, posit)):\n",
    "                \n",
    "          #  if(posit not in range(1,9)):\n",
    "            #    print('Position out of range!!')\n",
    "            #    posit = int(input('Enter the position [1-9]: '))\n",
    "            #    continue\n",
    "        \n",
    "            #else:\n",
    "                print('The position is not empty!!')\n",
    "                posit = int(input('Enter the position [1-9]: '))\n",
    "            \n",
    "        else:#(space_check(board, posit == True)):\n",
    "           return posit\n",
    "       "
   ]
  },
  {
   "cell_type": "code",
   "execution_count": 6,
   "metadata": {},
   "outputs": [
    {
     "name": "stdout",
     "output_type": "stream",
     "text": [
      "Enter the position [1-9]: 10\n",
      "Position out of range!!\n",
      "Enter the position [1-9]: 1\n",
      "The position is not empty!!\n",
      "Enter the position [1-9]: 0\n",
      "The position is not empty!!\n",
      "Enter the position [1-9]: 6\n"
     ]
    },
    {
     "data": {
      "text/plain": [
       "6"
      ]
     },
     "execution_count": 6,
     "metadata": {},
     "output_type": "execute_result"
    }
   ],
   "source": [
    "player_ch(['1','2','3','4','5','','7','8','9'])\n"
   ]
  },
  {
   "cell_type": "code",
   "execution_count": 35,
   "metadata": {},
   "outputs": [],
   "source": [
    "def player_choice(board):\n",
    "    position = 0\n",
    "    \n",
    "    while position not in [1,2,3,4,5,6,7,8,9] or not space_check(board, position):\n",
    "        position = int(input('Choose your next position: (1-9) '))\n",
    "        \n",
    "    return position"
   ]
  },
  {
   "cell_type": "code",
   "execution_count": null,
   "metadata": {},
   "outputs": [],
   "source": []
  },
  {
   "cell_type": "code",
   "execution_count": 36,
   "metadata": {},
   "outputs": [
    {
     "name": "stdout",
     "output_type": "stream",
     "text": [
      "Choose your next position: (1-9) 4\n",
      "Choose your next position: (1-9) 5\n",
      "Choose your next position: (1-9) 6\n"
     ]
    },
    {
     "data": {
      "text/plain": [
       "6"
      ]
     },
     "execution_count": 36,
     "metadata": {},
     "output_type": "execute_result"
    }
   ],
   "source": [
    "player_choice(['1','2','3','4','5','','7','8','9'])"
   ]
  },
  {
   "cell_type": "markdown",
   "metadata": {},
   "source": [
    "**Step 9: Write a function that asks the player if they want to play again and returns a boolean True if they do want to play again.**"
   ]
  },
  {
   "cell_type": "code",
   "execution_count": 1,
   "metadata": {},
   "outputs": [],
   "source": [
    "def replay():\n",
    "    choice = ''\n",
    "    \n",
    "    choice = input('Do you want to play again? [Y/N]: ').upper()\n",
    "    \n",
    "    while not (choice == 'Y' or choice == 'N'):\n",
    "         choice = input('Enter correct choice: [Y/N]: ').upper()\n",
    "        \n",
    "    \n",
    "    if(choice == 'Y'):\n",
    "        return True\n",
    "    \n",
    "    else:\n",
    "        return False"
   ]
  },
  {
   "cell_type": "code",
   "execution_count": 3,
   "metadata": {},
   "outputs": [
    {
     "name": "stdout",
     "output_type": "stream",
     "text": [
      "Do you want to play again? [Y/N]: yes\n",
      "Enter correct choice: [Y/N]: y\n"
     ]
    },
    {
     "data": {
      "text/plain": [
       "True"
      ]
     },
     "execution_count": 3,
     "metadata": {},
     "output_type": "execute_result"
    }
   ],
   "source": [
    "replay()"
   ]
  },
  {
   "cell_type": "markdown",
   "metadata": {},
   "source": [
    "**Step 10: Here comes the hard part! Use while loops and the functions you've made to run the game!**"
   ]
  },
  {
   "cell_type": "code",
   "execution_count": null,
   "metadata": {},
   "outputs": [],
   "source": []
  }
 ],
 "metadata": {
  "kernelspec": {
   "display_name": "Python 3",
   "language": "python",
   "name": "python3"
  },
  "language_info": {
   "codemirror_mode": {
    "name": "ipython",
    "version": 3
   },
   "file_extension": ".py",
   "mimetype": "text/x-python",
   "name": "python",
   "nbconvert_exporter": "python",
   "pygments_lexer": "ipython3",
   "version": "3.7.3"
  }
 },
 "nbformat": 4,
 "nbformat_minor": 2
}
